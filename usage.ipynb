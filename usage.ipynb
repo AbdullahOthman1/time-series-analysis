{
 "cells": [
  {
   "cell_type": "code",
   "execution_count": 1,
   "id": "4546151e",
   "metadata": {},
   "outputs": [],
   "source": [
    "import pandas as pd\n",
    "df = pd.read_csv('data/data6.csv')"
   ]
  },
  {
   "cell_type": "code",
   "execution_count": 2,
   "id": "7fc8b1e1",
   "metadata": {},
   "outputs": [
    {
     "data": {
      "text/html": [
       "<div>\n",
       "<style scoped>\n",
       "    .dataframe tbody tr th:only-of-type {\n",
       "        vertical-align: middle;\n",
       "    }\n",
       "\n",
       "    .dataframe tbody tr th {\n",
       "        vertical-align: top;\n",
       "    }\n",
       "\n",
       "    .dataframe thead th {\n",
       "        text-align: right;\n",
       "    }\n",
       "</style>\n",
       "<table border=\"1\" class=\"dataframe\">\n",
       "  <thead>\n",
       "    <tr style=\"text-align: right;\">\n",
       "      <th></th>\n",
       "      <th>missing_pct</th>\n",
       "      <th>outlier_removed_pct</th>\n",
       "    </tr>\n",
       "  </thead>\n",
       "  <tbody>\n",
       "    <tr>\n",
       "      <th>date</th>\n",
       "      <td>0.0</td>\n",
       "      <td>NaN</td>\n",
       "    </tr>\n",
       "    <tr>\n",
       "      <th>value</th>\n",
       "      <td>0.0</td>\n",
       "      <td>NaN</td>\n",
       "    </tr>\n",
       "    <tr>\n",
       "      <th>__rows_removed_as_outliers__</th>\n",
       "      <td>NaN</td>\n",
       "      <td>0.03</td>\n",
       "    </tr>\n",
       "  </tbody>\n",
       "</table>\n",
       "</div>"
      ],
      "text/plain": [
       "                              missing_pct  outlier_removed_pct\n",
       "date                                  0.0                  NaN\n",
       "value                                 0.0                  NaN\n",
       "__rows_removed_as_outliers__          NaN                 0.03"
      ]
     },
     "execution_count": 2,
     "metadata": {},
     "output_type": "execute_result"
    }
   ],
   "source": [
    "from timeseries_toolkit.pipeline import TimeSeriesAnalyzer\n",
    "from timeseries_toolkit.strategies.missing import ForwardFill, LinearInterpolationFill\n",
    "from timeseries_toolkit.strategies.outliers import ZScoreOutliers, IQROutliers, LinearRegressionOutliers, LOFOutliers\n",
    "\n",
    "an = TimeSeriesAnalyzer(\n",
    "    missing_strategy=LinearInterpolationFill(col=\"value\"),\n",
    "    outlier_strategy=IQROutliers(col=\"value\", k=1.5),\n",
    "    output_dir=\"output\"\n",
    ")\n",
    "\n",
    "results = an.run(df)\n",
    "results[\"summary\"]\n"
   ]
  }
 ],
 "metadata": {
  "kernelspec": {
   "display_name": "time-series-task",
   "language": "python",
   "name": "python3"
  },
  "language_info": {
   "codemirror_mode": {
    "name": "ipython",
    "version": 3
   },
   "file_extension": ".py",
   "mimetype": "text/x-python",
   "name": "python",
   "nbconvert_exporter": "python",
   "pygments_lexer": "ipython3",
   "version": "3.13.4"
  }
 },
 "nbformat": 4,
 "nbformat_minor": 5
}
