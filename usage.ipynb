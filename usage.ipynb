{
 "cells": [
  {
   "cell_type": "code",
   "execution_count": 2,
   "id": "e448948b",
   "metadata": {},
   "outputs": [],
   "source": [
    "import pandas as pd\n",
    "\n",
    "from timeseries_module.main import main\n",
    "from timeseries_module.missing_values.methods import (\n",
    "    fill_forward, fill_backward, linear_interpolation, window_mean\n",
    ")\n",
    "from timeseries_module.outliers.methods import (\n",
    "    remove_outliers_zscore, remove_outliers_iqr, remove_outliers_lof, remove_outliers_linear_regression\n",
    ")\n",
    "from timeseries_module.rolling.methods import (\n",
    "    rolling_mean, rolling_max, rolling_median, rolling_min, rolling_quantile, rolling_std, rolling_sum, rolling_var\n",
    ")\n",
    "\n"
   ]
  },
  {
   "cell_type": "code",
   "execution_count": 2,
   "id": "2c039451",
   "metadata": {},
   "outputs": [
    {
     "name": "stdout",
     "output_type": "stream",
     "text": [
      "                  time  ram_usage_GB  ram_utilization_percent  \\\n",
      "0  2025-08-17_21-45-25      7.876648                     49.5   \n",
      "1  2025-08-17_21-45-26      7.578224                     47.6   \n",
      "2  2025-08-17_21-45-27      7.842964                     49.3   \n",
      "3  2025-08-17_21-45-28      7.843349                     49.3   \n",
      "4  2025-08-17_21-45-29      7.816677                     49.1   \n",
      "\n",
      "   cpu_utilization_percent  \n",
      "0                     43.7  \n",
      "1                     80.3  \n",
      "2                     71.3  \n",
      "3                     75.8  \n",
      "4                     67.7  \n"
     ]
    }
   ],
   "source": [
    "df = pd.read_csv('data/4threads.csv')\n",
    "\n",
    "clean = main(\n",
    "    input_df=df,\n",
    "    output_path=\"output/4threads\",\n",
    "    outlier_sensitivity_degree=\"high\",\n",
    "    value_column=\"cpu_utilization_percent\",\n",
    "    missing_value_function=None,            \n",
    "    outlier_fn=remove_outliers_zscore,\n",
    "    time_column=\"time\",\n",
    "    rolling_fn=rolling_mean,                \n",
    "    rolling_kwargs={\"window\": 15},\n",
    "    export=True,\n",
    ")\n",
    "\n",
    "print(clean.head())"
   ]
  },
  {
   "cell_type": "code",
   "execution_count": 3,
   "id": "a4556cbe",
   "metadata": {},
   "outputs": [
    {
     "name": "stdout",
     "output_type": "stream",
     "text": [
      "   Unnamed: 0             datetime  Temperature\n",
      "0           0  2014-01-01 06:00:00         9.44\n",
      "1           1  2014-01-01 07:00:00        11.87\n",
      "2           2  2014-01-01 08:00:00        14.55\n",
      "3           3  2014-01-01 09:00:00        17.81\n",
      "4           4  2014-01-01 10:00:00        21.96\n"
     ]
    }
   ],
   "source": [
    "df = pd.read_csv('data/temperature_2014_18.csv')\n",
    "\n",
    "temp_mean = main(\n",
    "    input_df=df,\n",
    "    output_path=\"output/temperature_2014_18_mean_750\",\n",
    "    outlier_sensitivity_degree=None,\n",
    "    value_column=\"Temperature\",\n",
    "    missing_value_function=None,            \n",
    "    outlier_fn=None,\n",
    "    time_column=\"datetime\",\n",
    "    rolling_fn=rolling_mean,                \n",
    "    rolling_kwargs={\"window\": 750},\n",
    "    export=True,\n",
    ")\n",
    "\n",
    "print(temp_mean.head())"
   ]
  },
  {
   "cell_type": "code",
   "execution_count": 4,
   "id": "0fc77d38",
   "metadata": {},
   "outputs": [
    {
     "name": "stdout",
     "output_type": "stream",
     "text": [
      "   Unnamed: 0             datetime  Temperature\n",
      "0           0  2014-01-01 06:00:00         9.44\n",
      "1           1  2014-01-01 07:00:00        11.87\n",
      "2           2  2014-01-01 08:00:00        14.55\n",
      "3           3  2014-01-01 09:00:00        17.81\n",
      "4           4  2014-01-01 10:00:00        21.96\n"
     ]
    }
   ],
   "source": [
    "temp_std = main(\n",
    "    input_df=df,\n",
    "    output_path=\"output/temperature_2014_18_std\",\n",
    "    outlier_sensitivity_degree=None,\n",
    "    value_column=\"Temperature\",\n",
    "    missing_value_function=None,            \n",
    "    outlier_fn=None,\n",
    "    time_column=\"datetime\",\n",
    "    rolling_fn=rolling_std,                \n",
    "    rolling_kwargs={\"window\": 500},\n",
    "    export=True,\n",
    ")\n",
    "\n",
    "print(temp_std.head())"
   ]
  },
  {
   "cell_type": "code",
   "execution_count": null,
   "id": "d1b8377e",
   "metadata": {},
   "outputs": [],
   "source": []
  }
 ],
 "metadata": {
  "kernelspec": {
   "display_name": "time-series-task",
   "language": "python",
   "name": "python3"
  },
  "language_info": {
   "codemirror_mode": {
    "name": "ipython",
    "version": 3
   },
   "file_extension": ".py",
   "mimetype": "text/x-python",
   "name": "python",
   "nbconvert_exporter": "python",
   "pygments_lexer": "ipython3",
   "version": "3.13.4"
  }
 },
 "nbformat": 4,
 "nbformat_minor": 5
}
