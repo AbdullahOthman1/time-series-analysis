{
 "cells": [
  {
   "cell_type": "code",
   "execution_count": 1,
   "id": "e448948b",
   "metadata": {},
   "outputs": [
    {
     "name": "stdout",
     "output_type": "stream",
     "text": [
      "                  time  ...  cpu_utilization_percent\n",
      "0  2025-08-17_21-45-25  ...                     43.7\n",
      "1  2025-08-17_21-45-26  ...                     80.3\n",
      "2  2025-08-17_21-45-27  ...                     71.3\n",
      "3  2025-08-17_21-45-28  ...                     75.8\n",
      "4  2025-08-17_21-45-29  ...                     67.7\n",
      "\n",
      "[5 rows x 4 columns]\n"
     ]
    }
   ],
   "source": [
    "import pandas as pd\n",
    "\n",
    "from timeseries_module.main import main\n",
    "from timeseries_module.missing_values.methods import (\n",
    "    fill_forward, fill_backward, linear_interpolation, window_mean\n",
    ")\n",
    "from timeseries_module.outliers.methods import (\n",
    "    remove_outliers_zscore, remove_outliers_iqr, remove_outliers_lof, remove_outliers_linear_regression\n",
    ")\n",
    "from timeseries_module.rolling.methods import (\n",
    "    rolling_mean, rolling_max, rolling_median, rolling_min, rolling_quantile, rolling_std, rolling_sum, rolling_var\n",
    ")\n",
    "\n",
    "df = pd.read_csv('data/4threads.csv')\n",
    "\n",
    "clean = main(\n",
    "    input_df=df,\n",
    "    output_path=\"output/4threads\",\n",
    "    outlier_sensitivity_degree=\"high\",\n",
    "    value_column=\"cpu_utilization_percent\",\n",
    "    missing_value_function=None,            \n",
    "    outlier_fn=remove_outliers_zscore,\n",
    "    time_column=\"time\",\n",
    "    rolling_fn=rolling_mean,                \n",
    "    rolling_kwargs={\"window\": 15},\n",
    "    export=True,\n",
    ")\n",
    "\n",
    "print(clean.head())\n"
   ]
  }
 ],
 "metadata": {
  "kernelspec": {
   "display_name": "time-series-task",
   "language": "python",
   "name": "python3"
  },
  "language_info": {
   "codemirror_mode": {
    "name": "ipython",
    "version": 3
   },
   "file_extension": ".py",
   "mimetype": "text/x-python",
   "name": "python",
   "nbconvert_exporter": "python",
   "pygments_lexer": "ipython3",
   "version": "3.13.4"
  }
 },
 "nbformat": 4,
 "nbformat_minor": 5
}
